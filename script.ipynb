{
 "cells": [
  {
   "cell_type": "code",
   "execution_count": 2,
   "metadata": {},
   "outputs": [],
   "source": [
    "import cv2"
   ]
  },
  {
   "cell_type": "code",
   "execution_count": 3,
   "metadata": {},
   "outputs": [],
   "source": [
    "def generate_dataset(img, id, img_id):\n",
    "    cv2.imwrite('data/users.'+str(id)+\".\"+str(img_id)+\".jpg\", img)"
   ]
  },
  {
   "cell_type": "code",
   "execution_count": 4,
   "metadata": {},
   "outputs": [],
   "source": [
    "# Drawing a boundary for a feature\n",
    "def draw_boundary(img, classifier, scaleFactor, minNeighbors, color, text, clf):\n",
    "    # Convert the image to grayscale to detect features efficiently\n",
    "    gray_img = cv2.cvtColor(img, cv2.COLOR_BGR2GRAY)\n",
    "    # Use the classifier to detect features in the grayscale image\n",
    "    features = classifier.detectMultiScale(gray_img, scaleFactor, minNeighbors)\n",
    "    # Initialize a list to hold the coordinates of detected features\n",
    "    coords = []\n",
    "    # Iterate over each detected feature\n",
    "    for (x, y, w, h) in features:\n",
    "        # Draw a rectangle around the detected feature on the original image\n",
    "        cv2.rectangle(img, (x, y), (x+w, y+h), color, 2)\n",
    "        id, _ = clf.predict(gray_img[y:y+h, x:x+w])\n",
    "        if id == 1:\n",
    "            # Add text label to the detected feature\n",
    "            cv2.putText(img, \"SRIKAR\", (x, y-4), cv2.FONT_HERSHEY_SIMPLEX, 0.8, color, 1, cv2.LINE_AA)\n",
    "        # Store the coordinates of the detected feature\n",
    "        coords = [x, y, w, h]\n",
    "    # Return the coordinates of the detected feature\n",
    "    return coords\n",
    "\n",
    "def recognize(img, clf, faceCascade):\n",
    "    color = {'blue':(255,0,0), 'red':(0,0,255), 'green':(0,255,0), 'white': (255,255,255)}\n",
    "\n",
    "    coords = draw_boundary(img, faceCascade, 1.1, 10,color['white'],'Face',clf)\n",
    "\n",
    "    return img\n",
    "# Function to detect facial features in an image\n",
    "def detect(img, faceCascade, eyesCascade, noseCascade, mouthCascade, img_id):\n",
    "    # Dictionary to store color values for drawing boundaries\n",
    "    color = {'blue': (255, 0, 0), 'red': (0, 0, 255), 'green': (0, 255, 0), 'white': (255, 255, 255)}\n",
    "    # Call the draw_boundary function to draw boundaries around detected faces\n",
    "    coords = draw_boundary(img, faceCascade, 1.1, 10, color['blue'], 'Face')\n",
    "\n",
    "    # Check if a face is detected\n",
    "    if len(coords) == 4:\n",
    "        roi_img = img[coords[1]:coords[1]+coords[3], coords[0]:coords[0]+coords[2]]\n",
    "        \n",
    "        user_id = 1\n",
    "        generate_dataset(roi_img, user_id, img_id)\n",
    "        # face detection\n",
    "        # # Extract the region of interest (ROI) containing the detected face\n",
    "        # roi_img = img[coords[1]:coords[1]+coords[3], coords[0]:coords[0]+coords[2]]\n",
    "        # # Draw boundaries around eyes, nose, and mouth within the ROI\n",
    "        # coords = draw_boundary(roi_img, eyesCascade, 1.1, 10, color['white'], 'Eyes')\n",
    "        # coords = draw_boundary(roi_img, noseCascade, 1.1, 5, color['green'], 'Nose')\n",
    "        # coords = draw_boundary(roi_img, mouthCascade, 1.1, 20, color['white'], 'Mouth')\n",
    "    # Return the modified image\n",
    "    return img\n",
    "\n",
    "# Load the cascade classifiers for face, eyes, nose, and mouth detection\n",
    "faceCascade = cv2.CascadeClassifier('haarcascade_frontalface_default.xml') \n",
    "eyesCascade = cv2.CascadeClassifier('haarcascade_eye.xml')\n",
    "noseCascade = cv2.CascadeClassifier('Nariz.xml')\n",
    "mouthCascade = cv2.CascadeClassifier('Mouth.xml')\n",
    "\n",
    "clf = cv2.face.LBPHFaceRecognizer_create()\n",
    "clf.read('classifier.yml')"
   ]
  },
  {
   "cell_type": "code",
   "execution_count": 5,
   "metadata": {},
   "outputs": [],
   "source": [
    "# Creating a video capture object to capture video from a webcam\n",
    "video_capture = cv2.VideoCapture(0)  # If using the laptop's built-in webcam, use 0; otherwise, specify the appropriate webcam index (e.g., 1 or -1)\n",
    "\n",
    "img_id = 0\n",
    "# Continuously capture video frames and detect faces\n",
    "while True:\n",
    "    # Read a frame from the video capture object\n",
    "    _, img = video_capture.read()\n",
    "    \n",
    "    # Call the detect function to detect faces in the captured frame\n",
    "    #img = detect(img, faceCascade, eyesCascade, noseCascade, mouthCascade, img_id)\n",
    "    \n",
    "    img = recognize(img, clf, faceCascade)\n",
    "    # Display the frame with face boundaries drawn\n",
    "    cv2.imshow('Face detection', img)\n",
    "    \n",
    "    img_id += 1\n",
    "    # Check if the user pressed 'q' to exit\n",
    "    if cv2.waitKey(1) & 0xFF == ord('q'):\n",
    "        break\n",
    "\n",
    "# Release the video capture object to free up resources\n",
    "video_capture.release()\n",
    "\n",
    "# Close all OpenCV windows\n",
    "cv2.destroyAllWindows()\n"
   ]
  }
 ],
 "metadata": {
  "kernelspec": {
   "display_name": "Python 3",
   "language": "python",
   "name": "python3"
  },
  "language_info": {
   "codemirror_mode": {
    "name": "ipython",
    "version": 3
   },
   "file_extension": ".py",
   "mimetype": "text/x-python",
   "name": "python",
   "nbconvert_exporter": "python",
   "pygments_lexer": "ipython3",
   "version": "3.11.7"
  }
 },
 "nbformat": 4,
 "nbformat_minor": 2
}
