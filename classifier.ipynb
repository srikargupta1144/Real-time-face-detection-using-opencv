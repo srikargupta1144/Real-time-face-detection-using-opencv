{
 "cells": [
  {
   "cell_type": "code",
   "execution_count": 3,
   "metadata": {},
   "outputs": [],
   "source": [
    "import os  # Importing the operating system module to interact with the file system\n",
    "import numpy as np  # Importing numpy for numerical operations\n",
    "from PIL import Image  # Importing the Python Imaging Library to work with images\n",
    "import cv2  # Importing OpenCV for computer vision tasks\n",
    "\n",
    "def train_classifier(data_dir):\n",
    "    # Get the list of file paths in the specified directory\n",
    "    path = [os.path.join(data_dir, f) for f in os.listdir(data_dir)]\n",
    "    faces = []  # Initialize a list to store face images\n",
    "    ids = []  # Initialize a list to store corresponding IDs\n",
    "\n",
    "    # Iterate through each image file\n",
    "    for image in path:\n",
    "        # Open the image file and convert it to grayscale\n",
    "        img = Image.open(image).convert('L')\n",
    "        # Convert the image to a NumPy array of unsigned 8-bit integers (grayscale)\n",
    "        imageNp = np.array(img, 'uint8')\n",
    "        # Extract the ID from the image file name\n",
    "        id = int(os.path.split(image)[1].split('.')[1])\n",
    "\n",
    "        # Append the face image and its corresponding ID to the lists\n",
    "        faces.append(imageNp)\n",
    "        ids.append(id)\n",
    "\n",
    "    # Convert the IDs list to a NumPy array\n",
    "    ids = np.array(ids)\n",
    "\n",
    "    # Create LBPH face recognizer\n",
    "    clf = cv2.face.LBPHFaceRecognizer_create()\n",
    "    # Train the classifier with the face images and corresponding IDs\n",
    "    clf.train(faces, ids)\n",
    "    # Save the trained classifier to a file\n",
    "    clf.save('classifier.yml')\n",
    "\n",
    "# Call the function to train the classifier using the images in the 'data' directory\n",
    "train_classifier('data')\n"
   ]
  },
  {
   "cell_type": "code",
   "execution_count": 2,
   "metadata": {},
   "outputs": [
    {
     "name": "stdout",
     "output_type": "stream",
     "text": [
      "Requirement already satisfied: opencv-contrib-python in c:\\users\\srikar gupta\\appdata\\roaming\\python\\python311\\site-packages (4.9.0.80)\n",
      "Requirement already satisfied: numpy>=1.21.2 in c:\\users\\srikar gupta\\appdata\\local\\programs\\python\\python311\\lib\\site-packages (from opencv-contrib-python) (1.26.4)\n",
      "Note: you may need to restart the kernel to use updated packages.\n"
     ]
    },
    {
     "name": "stderr",
     "output_type": "stream",
     "text": [
      "\n",
      "[notice] A new release of pip is available: 23.3.2 -> 24.0\n",
      "[notice] To update, run: python.exe -m pip install --upgrade pip\n"
     ]
    }
   ],
   "source": [
    "pip install opencv-contrib-python --user"
   ]
  }
 ],
 "metadata": {
  "kernelspec": {
   "display_name": "Python 3",
   "language": "python",
   "name": "python3"
  },
  "language_info": {
   "codemirror_mode": {
    "name": "ipython",
    "version": 3
   },
   "file_extension": ".py",
   "mimetype": "text/x-python",
   "name": "python",
   "nbconvert_exporter": "python",
   "pygments_lexer": "ipython3",
   "version": "3.11.7"
  }
 },
 "nbformat": 4,
 "nbformat_minor": 2
}
